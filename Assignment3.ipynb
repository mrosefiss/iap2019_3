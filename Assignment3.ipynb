{
 "cells": [
  {
   "cell_type": "code",
   "execution_count": 10,
   "metadata": {},
   "outputs": [],
   "source": [
    "import pandas as pd\n",
    "# import geopandas\n",
    "from shapely.geometry import Point\n",
    "import matplotlib.pyplot as plt\n",
    "import seaborn as sns\n",
    "import numpy as np\n",
    "from datetime import datetime\n",
    "%matplotlib inline"
   ]
  },
  {
   "cell_type": "markdown",
   "metadata": {},
   "source": [
    "Load the data"
   ]
  },
  {
   "cell_type": "code",
   "execution_count": 335,
   "metadata": {},
   "outputs": [
    {
     "data": {
      "text/html": [
       "<div>\n",
       "<style scoped>\n",
       "    .dataframe tbody tr th:only-of-type {\n",
       "        vertical-align: middle;\n",
       "    }\n",
       "\n",
       "    .dataframe tbody tr th {\n",
       "        vertical-align: top;\n",
       "    }\n",
       "\n",
       "    .dataframe thead th {\n",
       "        text-align: right;\n",
       "    }\n",
       "</style>\n",
       "<table border=\"1\" class=\"dataframe\">\n",
       "  <thead>\n",
       "    <tr style=\"text-align: right;\">\n",
       "      <th></th>\n",
       "      <th>year</th>\n",
       "      <th>tripdate</th>\n",
       "      <th>prepostm</th>\n",
       "      <th>trip</th>\n",
       "      <th>72</th>\n",
       "      <th>73</th>\n",
       "      <th>75</th>\n",
       "      <th>77</th>\n",
       "    </tr>\n",
       "  </thead>\n",
       "  <tbody>\n",
       "    <tr>\n",
       "      <th>0</th>\n",
       "      <td>2015</td>\n",
       "      <td>2015-09-01 00:00:00</td>\n",
       "      <td>0</td>\n",
       "      <td>42052207</td>\n",
       "      <td>2015-09-01 07:38:03</td>\n",
       "      <td>2015-09-01 07:41:10</td>\n",
       "      <td>2015-09-01 07:46:00</td>\n",
       "      <td>2015-09-01 07:48:24</td>\n",
       "    </tr>\n",
       "    <tr>\n",
       "      <th>1</th>\n",
       "      <td>2015</td>\n",
       "      <td>2015-09-01 00:00:00</td>\n",
       "      <td>0</td>\n",
       "      <td>42052376</td>\n",
       "      <td>2015-09-01 07:48:41</td>\n",
       "      <td>2015-09-01 07:51:10</td>\n",
       "      <td>2015-09-01 07:56:10</td>\n",
       "      <td>2015-09-01 07:59:22</td>\n",
       "    </tr>\n",
       "    <tr>\n",
       "      <th>2</th>\n",
       "      <td>2015</td>\n",
       "      <td>2015-09-01 00:00:00</td>\n",
       "      <td>0</td>\n",
       "      <td>42051228</td>\n",
       "      <td>2015-09-01 08:03:45</td>\n",
       "      <td>2015-09-01 08:06:45</td>\n",
       "      <td>2015-09-01 08:09:22</td>\n",
       "      <td>2015-09-01 08:11:39</td>\n",
       "    </tr>\n",
       "    <tr>\n",
       "      <th>3</th>\n",
       "      <td>2015</td>\n",
       "      <td>2015-09-01 00:00:00</td>\n",
       "      <td>0</td>\n",
       "      <td>42054621</td>\n",
       "      <td>2015-09-01 08:35:23</td>\n",
       "      <td>2015-09-01 08:38:43</td>\n",
       "      <td>2015-09-01 08:44:22</td>\n",
       "      <td>2015-09-01 08:47:58</td>\n",
       "    </tr>\n",
       "    <tr>\n",
       "      <th>4</th>\n",
       "      <td>2015</td>\n",
       "      <td>2015-09-01 00:00:00</td>\n",
       "      <td>0</td>\n",
       "      <td>42052202</td>\n",
       "      <td>2015-09-01 09:18:46</td>\n",
       "      <td>2015-09-01 09:22:01</td>\n",
       "      <td>2015-09-01 09:25:59</td>\n",
       "      <td>2015-09-01 09:29:42</td>\n",
       "    </tr>\n",
       "  </tbody>\n",
       "</table>\n",
       "</div>"
      ],
      "text/plain": [
       "   year             tripdate  prepostm      trip                   72  \\\n",
       "0  2015  2015-09-01 00:00:00         0  42052207  2015-09-01 07:38:03   \n",
       "1  2015  2015-09-01 00:00:00         0  42052376  2015-09-01 07:48:41   \n",
       "2  2015  2015-09-01 00:00:00         0  42051228  2015-09-01 08:03:45   \n",
       "3  2015  2015-09-01 00:00:00         0  42054621  2015-09-01 08:35:23   \n",
       "4  2015  2015-09-01 00:00:00         0  42052202  2015-09-01 09:18:46   \n",
       "\n",
       "                    73                   75                   77  \n",
       "0  2015-09-01 07:41:10  2015-09-01 07:46:00  2015-09-01 07:48:24  \n",
       "1  2015-09-01 07:51:10  2015-09-01 07:56:10  2015-09-01 07:59:22  \n",
       "2  2015-09-01 08:06:45  2015-09-01 08:09:22  2015-09-01 08:11:39  \n",
       "3  2015-09-01 08:38:43  2015-09-01 08:44:22  2015-09-01 08:47:58  \n",
       "4  2015-09-01 09:22:01  2015-09-01 09:25:59  2015-09-01 09:29:42  "
      ]
     },
     "execution_count": 335,
     "metadata": {},
     "output_type": "execute_result"
    }
   ],
   "source": [
    "r1in = pd.read_csv('/Users/maryrosefissinger/Documents/MIT/Classes/IAP_2019/Assignment3/AVLData/SouthMassAve/r1_in.csv')\n",
    "r1out = pd.read_csv('/Users/maryrosefissinger/Documents/MIT/Classes/IAP_2019/Assignment3/AVLData/SouthMassAve/r1_out.csv')\n",
    "r71in = pd.read_csv('/Users/maryrosefissinger/Documents/MIT/Classes/IAP_2019/Assignment3/AVLData/MtAuburnSt/r71_in.csv')\n",
    "r71out = pd.read_csv('/Users/maryrosefissinger/Documents/MIT/Classes/IAP_2019/Assignment3/AVLData/MtAuburnSt/r71_out.csv')\n",
    "r73in = pd.read_csv('/Users/maryrosefissinger/Documents/MIT/Classes/IAP_2019/Assignment3/AVLData/MtAuburnSt/r73_in.csv')\n",
    "r73out = pd.read_csv('/Users/maryrosefissinger/Documents/MIT/Classes/IAP_2019/Assignment3/AVLData/MtAuburnSt/r73_out.csv')\n",
    "r1in.head()"
   ]
  },
  {
   "cell_type": "code",
   "execution_count": 336,
   "metadata": {},
   "outputs": [],
   "source": [
    "# Write functions to get the number of seconds from a timedelta and the hour from a timestamp\n",
    "f = lambda x: x.seconds\n",
    "g = lambda x: x.hour"
   ]
  },
  {
   "cell_type": "markdown",
   "metadata": {},
   "source": [
    "Now we write a function that takes as an input the data we just read in, the route name, and the direction, and returns a dataframe with one row for each subsegment and the entire study area (between the first and final stops) per trip with the year, month, date, time period (eg. 'AM Peak'), prepostm (boolean indicating if it was before or after implementation), segment label, and travel time in seconds. Thus we can run this function on each of the input data and then vertically concatenate them with Route and Direction labels so that all our data is in a single table."
   ]
  },
  {
   "cell_type": "code",
   "execution_count": 337,
   "metadata": {},
   "outputs": [],
   "source": [
    "def data_prep(df, route, direction):\n",
    "    #Rename the columns so the same function will work on all data\n",
    "    df.columns = ['year','tripdate','prepostm','trip','1','2','3','4']\n",
    "    \n",
    "    #Convert necessary columns to easy-to-work-with datetime objects\n",
    "    df['tripdate'] = pd.to_datetime(df['tripdate'])\n",
    "    df['1'] = pd.to_datetime(df['1'])\n",
    "    df['2'] = pd.to_datetime(df['2'])\n",
    "    df['3'] = pd.to_datetime(df['3'])\n",
    "    df['4'] = pd.to_datetime(df['4'])\n",
    "    \n",
    "    #Get the travel time in seconds for each of the sub-segments\n",
    "    df['1_2'] = (df['2'] - df['1']).apply(f)\n",
    "    df['2_3'] = (df['3'] - df['2']).apply(f)\n",
    "    df['3_4'] = (df['4'] - df['3']).apply(f)\n",
    "    df['1_4'] = (df['4'] - df['1']).apply(f) #The entire segment\n",
    "    \n",
    "    #Make a column that assigns the proper time of day label to each observation\n",
    "    df['time_period'] = pd.cut(\n",
    "        df[['1','2','3','4']].max(axis = 1).apply(g), \n",
    "        bins=[-np.inf,11,15, np.inf], labels=['AM Peak','Midday', 'PM Peak'])\n",
    "    \n",
    "    #Extract the month number\n",
    "    df['month'] = df['tripdate'].apply(lambda x: x.month)\n",
    "\n",
    "    #Unpivot the table so the travel time values don't live in separate columns headed \n",
    "    #by sub-segment, but rather all in one column with a separate column labeling the segments\n",
    "    #This will make it easier to filter in R.\n",
    "    df_unpiv = pd.melt(df, \n",
    "                 id_vars=['year','month','tripdate','time_period','prepostm'],\n",
    "                 value_vars=['1_2', '2_3','3_4','1_4'])\n",
    "    \n",
    "    #Rename the columns resulting from the previous step\n",
    "    df_unpiv =df_unpiv.rename(columns ={'variable': 'segment', 'value':'travel_time'})\n",
    "    \n",
    "    #Filter out outliers\n",
    "    df_unpiv = df_unpiv[df_unpiv['travel_time'] < 4000.0]\n",
    "    \n",
    "    #Make 2 new label columns for each set of data: One that says the Route and the other\n",
    "    #the direction. This way we can concatenate the data to a single table without losing\n",
    "    #that information\n",
    "    final = df_unpiv.assign(Route = route, Direction = direction)\n",
    "    \n",
    "    return final"
   ]
  },
  {
   "cell_type": "code",
   "execution_count": 338,
   "metadata": {},
   "outputs": [],
   "source": [
    "#Now concatenate all the prepped data frames\n",
    "data = pd.concat([data_prep(r1in, 'Route1','Inbound'), data_prep(r1out, 'Route1','Outbound'),\n",
    "                 data_prep(r71in, 'Route71','Inbound'), data_prep(r71out, 'Route71','Outbound'),\n",
    "                 data_prep(r73in, 'Route73','Inbound'), data_prep(r73out, 'Route73','Outbound')])"
   ]
  },
  {
   "cell_type": "code",
   "execution_count": 340,
   "metadata": {},
   "outputs": [],
   "source": [
    "#Read the data to a csv\n",
    "data.to_csv('/Users/maryrosefissinger/Documents/MIT/Classes/IAP_2019/Assignment3/full_data.csv')"
   ]
  },
  {
   "cell_type": "code",
   "execution_count": null,
   "metadata": {},
   "outputs": [],
   "source": []
  }
 ],
 "metadata": {
  "kernelspec": {
   "display_name": "Python 2",
   "language": "python",
   "name": "python2"
  },
  "language_info": {
   "codemirror_mode": {
    "name": "ipython",
    "version": 2
   },
   "file_extension": ".py",
   "mimetype": "text/x-python",
   "name": "python",
   "nbconvert_exporter": "python",
   "pygments_lexer": "ipython2",
   "version": "2.7.15"
  }
 },
 "nbformat": 4,
 "nbformat_minor": 2
}
